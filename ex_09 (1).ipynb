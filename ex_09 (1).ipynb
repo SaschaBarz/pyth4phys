{
 "cells": [
  {
   "cell_type": "markdown",
   "metadata": {
    "id": "O9nx7WPqXqKy"
   },
   "source": [
    "# Exercise sheet 9\n",
    "### Due 20/01/2023, 14:00 \n",
    "- Simon Pick\n",
    "- Sascha Barz\n",
    "- Fabian Kampshoff"
   ]
  },
  {
   "cell_type": "markdown",
   "metadata": {
    "id": "-ws24Td3XqK4"
   },
   "source": [
    "## A simple particle detector"
   ]
  },
  {
   "cell_type": "markdown",
   "metadata": {
    "id": "P4Jpsvq8XqK5"
   },
   "source": [
    "Consider a fictional particle detector built as a spherical volume of radius $R$. The events (particles) recorded by the detector have the following observables:\n",
    "- cartesian cordinates of the interaction vertex $(x,y,z)$ referenced to the center of the sphere;\n",
    "- direction of the particle, represented in the form of direction cosines $(d_x, d_y, d_z)$\n",
    "- reconstructed energy ($E_{rec}$);\n",
    "- relative detection time ($t$), for simplicity you can just use a float for this (although you have learned about proper timekeeping in the lecture).\n",
    "\n",
    "The detector is expected to record background events at a constant rate $r_b$. We want to simulate the detector background according to these (intuitive) properties:\n",
    "- uniform spatial distribution inside the detector volume;\n",
    "- uniform direction distribution;\n",
    "- uniform time distribution;\n",
    "- the true energy of the background particles ($E_b$) has a normal distribution with given mean $\\mu_{E_b}$ and standard deviation $\\sigma_{E_b}$;\n",
    "- due to the limited energy resolution of the detector (that we represent with a parameter $\\Delta E_{rec}$), a particle of energy $E_{true}$ will be reconstructed as having energy $E_{rec}$, where $E_{rec}$ follows a normal distribution with mean $E$ and standard deviation $\\Delta E_{rec} \\cdot E_{true}$.\n"
   ]
  },
  {
   "cell_type": "markdown",
   "metadata": {
    "id": "ciR0LspcXqK9"
   },
   "source": [
    "### 1. The module\n",
    "Create a python module `detector.py` providing a class `Detector`.\n",
    "\n",
    "The class must provide a `generate_background()` method that takes as an argument a duration `T` (livetime) and returns a `numpy` array representing a sample of background events with time between `0` and `T`, having the properties described above. The columns of the array should represent the values introduced before:\n",
    "- `x`, `y`, `z`, `d_x`, `d_y`, `d_z`, `t`, `E_true`, `E_rec`.\n",
    "\n",
    "To make your code more tidy, group the properties of the background in a separate class, following this example skeleton code:"
   ]
  },
  {
   "cell_type": "code",
   "execution_count": null,
   "metadata": {},
   "outputs": [],
   "source": [
    "### \n",
    "### IMPORTANT\n",
    "### COMMENT OUT OR DELETE THIS CELL ONCE YOU HAVE CREATED YOUR MODULE WITH YOUR CODE IN THERE!\n",
    "###\n",
    "import numpy as np\n",
    "\n",
    "class BackgroundSource:\n",
    "    def __init__(self, r_b : float, mu_Eb : float, sigma_Eb: float):\n",
    "        self.r_b = r_b\n",
    "        self.mu_Eb = mu_Eb\n",
    "        self.sigma_Eb = sigma_Eb\n",
    "        pass\n",
    "    # MORE CODE HERE, IF NECESSARY\n",
    "\n",
    "class Detector:\n",
    "    def __init__(self, R : float, delta_Erec: float, background_source : BackgroundSource):\n",
    "        self.R = R\n",
    "        self.delta_Erec = delta_Erec\n",
    "        self.background_source = background_source\n",
    "        pass\n",
    "\n",
    "    def generate_background(self, T : int):\n",
    "        # Generate the number of background events\n",
    "        num_events = int(self.background_source.r_b * T)\n",
    "        \n",
    "        # Generate random x, y, z coordinates within the sphere\n",
    "        x = (np.random.rand(num_events) - 0.5) * 2 * self.R\n",
    "        y = (np.random.rand(num_events) - 0.5) * 2 * self.R\n",
    "        z = (np.random.rand(num_events) - 0.5) * 2 * self.R\n",
    "        \n",
    "        # Generate random direction cosines\n",
    "        d_x = np.random.rand(num_events) - 0.5\n",
    "        d_y = np.random.rand(num_events) - 0.5\n",
    "        d_z = np.random.rand(num_events) - 0.5\n",
    "        \n",
    "        # Generate random times between 0 and T\n",
    "        t = np.random.rand(num_events) * T\n",
    "        \n",
    "        # Generate true energies with normal distribution\n",
    "        E_true = np.random.normal(self.background_source.mu_Eb, self.background_source.sigma_Eb, num_events)\n",
    "        \n",
    "        # Generate reconstructed energies with normal distribution\n",
    "        E_rec = np.random.normal(E_true, self.delta_Erec * E_true, num_events)\n",
    "        \n",
    "        # Create an array of the events\n",
    "        events = np.column_stack((x, y, z, d_x, d_y, d_z, t, E_true, E_rec))\n",
    "        \n",
    "        return events\n",
    "\n",
    "    # MORE CODE HERE, IF NECESSARY"
   ]
  },
  {
   "cell_type": "code",
   "execution_count": 3,
   "metadata": {
    "id": "7xxMSt0BXqLA"
   },
   "outputs": [],
   "source": [
    "# After you have created your module, you should import the required symbols by activating the following line.\n",
    "from detector import Detector, BackgroundSource\n",
    "\n",
    "### TEST PARAMETERS ###\n",
    "radius = 30.0                   # m\n",
    "energy_resolution = 0.25\n",
    "\n",
    "background_rate = 10            # s^{-1}\n",
    "background_energy_mean  = 1    # MeV\n",
    "background_energy_sigma = 0.05 # MeV\n",
    "\n",
    "livetime = 86400                # s\n",
    "\n",
    "### TEST ###\n",
    "bg = BackgroundSource(r_b = background_rate, mu_Eb = background_energy_mean, sigma_Eb = background_energy_sigma)\n",
    "\n",
    "det = Detector(R = radius, delta_Erec = energy_resolution, background_source = bg)\n",
    "\n",
    "background_sample = det.generate_background(livetime)"
   ]
  },
  {
   "cell_type": "markdown",
   "metadata": {
    "id": "gkGtXqI1XqLB"
   },
   "source": [
    "**Remember**: in most Jupyter installations you have to restart your kernel every time you make a modification to a module in order to run the updated code."
   ]
  },
  {
   "cell_type": "markdown",
   "metadata": {
    "id": "lcWoqFndXqLC"
   },
   "source": [
    "### 2. The script\n",
    "Provide a script that generates a sample of background events of duration `T` and saves it to a file using the `numpy` builtin functionality. We take this chance to learn the basics of `argparse` to read arguments and options from the command line.\n",
    "\n",
    "Now take a look at the provided example `generate_events.py` script and modify it to provide the required functionality."
   ]
  },
  {
   "cell_type": "code",
   "execution_count": 4,
   "metadata": {
    "id": "z0Snuw3EXqLC",
    "outputId": "9cd086d8-c629-4e33-a8e5-4c9035361441",
    "scrolled": true
   },
   "outputs": [
    {
     "ename": "SyntaxError",
     "evalue": "invalid syntax (651126210.py, line 2)",
     "output_type": "error",
     "traceback": [
      "\u001b[1;36m  Input \u001b[1;32mIn [4]\u001b[1;36m\u001b[0m\n\u001b[1;33m    python generate_events.py --background_energy 10.0 --output_file \"out.txt\" 86400\u001b[0m\n\u001b[1;37m           ^\u001b[0m\n\u001b[1;31mSyntaxError\u001b[0m\u001b[1;31m:\u001b[0m invalid syntax\n"
     ]
    }
   ],
   "source": [
    "# Try and run this from your terminal, without the starting `!`\n",
    "python generate_events.py --background_energy 10.0 --output_file \"out.txt\" 86400\n",
    "# At the moment, this script does nothing aside from printing."
   ]
  },
  {
   "cell_type": "markdown",
   "metadata": {
    "id": "_HQfYJTuXqLE"
   },
   "source": [
    "Here `86400` is the value of the `livetime` positional argument, while `--background_energy` and `--output_file` are optional arguments. Check how the two are defined differently in `generate_events.py`."
   ]
  },
  {
   "cell_type": "markdown",
   "metadata": {
    "id": "kOdIL0FZXqLE"
   },
   "source": [
    "### 3. The benchmark\n",
    "In Jupyter, load the numpy file produced by your script and produce the following plots:\n",
    "- one scatter plot $E_{rec}$ vs $E_{true}$;\n",
    "- one histogram for each of the three spherical coordinates of the interaction vertices: radial distance ($\\rho$), zenithal angle ($\\theta$) and azimuthal angle ($\\phi$). You should calculate these coordinates from $(x, y, z)$. Plot also two additional histograms: one for $\\sin(\\phi)$ and one for $\\cos(\\theta)$. Make sure to choose appropriate ranges and number of bins for the histograms, do not leave them as defaults!\n",
    "- one histogram for each of the three direction cosines $(d_x, d_y, d_z)$;\n",
    "- one histogram for the distribution of the **time difference between any two consecutive events**. Calculate the mean time difference and mark it on the histogram. (Bonus questions: does this distribution look familiar to you? Does it have some relationship with the input parameters?)"
   ]
  },
  {
   "cell_type": "code",
   "execution_count": 7,
   "metadata": {
    "id": "HhO9PoxpXqLF"
   },
   "outputs": [
    {
     "ename": "OSError",
     "evalue": "out.txt not found.",
     "output_type": "error",
     "traceback": [
      "\u001b[1;31m---------------------------------------------------------------------------\u001b[0m",
      "\u001b[1;31mOSError\u001b[0m                                   Traceback (most recent call last)",
      "Input \u001b[1;32mIn [7]\u001b[0m, in \u001b[0;36m<cell line: 2>\u001b[1;34m()\u001b[0m\n\u001b[0;32m      1\u001b[0m \u001b[38;5;28;01mimport\u001b[39;00m \u001b[38;5;21;01mnumpy\u001b[39;00m \u001b[38;5;28;01mas\u001b[39;00m \u001b[38;5;21;01mnp\u001b[39;00m\n\u001b[1;32m----> 2\u001b[0m background_sample \u001b[38;5;241m=\u001b[39m \u001b[43mnp\u001b[49m\u001b[38;5;241;43m.\u001b[39;49m\u001b[43mloadtxt\u001b[49m\u001b[43m(\u001b[49m\u001b[38;5;124;43m\"\u001b[39;49m\u001b[38;5;124;43mout.txt\u001b[39;49m\u001b[38;5;124;43m\"\u001b[39;49m\u001b[43m)\u001b[49m\n\u001b[0;32m      4\u001b[0m \u001b[38;5;28;01mimport\u001b[39;00m \u001b[38;5;21;01mmatplotlib\u001b[39;00m\u001b[38;5;21;01m.\u001b[39;00m\u001b[38;5;21;01mpyplot\u001b[39;00m \u001b[38;5;28;01mas\u001b[39;00m \u001b[38;5;21;01mplt\u001b[39;00m\n\u001b[0;32m      6\u001b[0m E_true \u001b[38;5;241m=\u001b[39m background_sample[:, \u001b[38;5;241m7\u001b[39m]\n",
      "File \u001b[1;32m~\\anaconda3\\lib\\site-packages\\numpy\\lib\\npyio.py:1067\u001b[0m, in \u001b[0;36mloadtxt\u001b[1;34m(fname, dtype, comments, delimiter, converters, skiprows, usecols, unpack, ndmin, encoding, max_rows, like)\u001b[0m\n\u001b[0;32m   1065\u001b[0m     fname \u001b[38;5;241m=\u001b[39m os_fspath(fname)\n\u001b[0;32m   1066\u001b[0m \u001b[38;5;28;01mif\u001b[39;00m _is_string_like(fname):\n\u001b[1;32m-> 1067\u001b[0m     fh \u001b[38;5;241m=\u001b[39m \u001b[43mnp\u001b[49m\u001b[38;5;241;43m.\u001b[39;49m\u001b[43mlib\u001b[49m\u001b[38;5;241;43m.\u001b[39;49m\u001b[43m_datasource\u001b[49m\u001b[38;5;241;43m.\u001b[39;49m\u001b[43mopen\u001b[49m\u001b[43m(\u001b[49m\u001b[43mfname\u001b[49m\u001b[43m,\u001b[49m\u001b[43m \u001b[49m\u001b[38;5;124;43m'\u001b[39;49m\u001b[38;5;124;43mrt\u001b[39;49m\u001b[38;5;124;43m'\u001b[39;49m\u001b[43m,\u001b[49m\u001b[43m \u001b[49m\u001b[43mencoding\u001b[49m\u001b[38;5;241;43m=\u001b[39;49m\u001b[43mencoding\u001b[49m\u001b[43m)\u001b[49m\n\u001b[0;32m   1068\u001b[0m     fencoding \u001b[38;5;241m=\u001b[39m \u001b[38;5;28mgetattr\u001b[39m(fh, \u001b[38;5;124m'\u001b[39m\u001b[38;5;124mencoding\u001b[39m\u001b[38;5;124m'\u001b[39m, \u001b[38;5;124m'\u001b[39m\u001b[38;5;124mlatin1\u001b[39m\u001b[38;5;124m'\u001b[39m)\n\u001b[0;32m   1069\u001b[0m     fh \u001b[38;5;241m=\u001b[39m \u001b[38;5;28miter\u001b[39m(fh)\n",
      "File \u001b[1;32m~\\anaconda3\\lib\\site-packages\\numpy\\lib\\_datasource.py:193\u001b[0m, in \u001b[0;36mopen\u001b[1;34m(path, mode, destpath, encoding, newline)\u001b[0m\n\u001b[0;32m    156\u001b[0m \u001b[38;5;124;03m\"\"\"\u001b[39;00m\n\u001b[0;32m    157\u001b[0m \u001b[38;5;124;03mOpen `path` with `mode` and return the file object.\u001b[39;00m\n\u001b[0;32m    158\u001b[0m \n\u001b[1;32m   (...)\u001b[0m\n\u001b[0;32m    189\u001b[0m \n\u001b[0;32m    190\u001b[0m \u001b[38;5;124;03m\"\"\"\u001b[39;00m\n\u001b[0;32m    192\u001b[0m ds \u001b[38;5;241m=\u001b[39m DataSource(destpath)\n\u001b[1;32m--> 193\u001b[0m \u001b[38;5;28;01mreturn\u001b[39;00m \u001b[43mds\u001b[49m\u001b[38;5;241;43m.\u001b[39;49m\u001b[43mopen\u001b[49m\u001b[43m(\u001b[49m\u001b[43mpath\u001b[49m\u001b[43m,\u001b[49m\u001b[43m \u001b[49m\u001b[43mmode\u001b[49m\u001b[43m,\u001b[49m\u001b[43m \u001b[49m\u001b[43mencoding\u001b[49m\u001b[38;5;241;43m=\u001b[39;49m\u001b[43mencoding\u001b[49m\u001b[43m,\u001b[49m\u001b[43m \u001b[49m\u001b[43mnewline\u001b[49m\u001b[38;5;241;43m=\u001b[39;49m\u001b[43mnewline\u001b[49m\u001b[43m)\u001b[49m\n",
      "File \u001b[1;32m~\\anaconda3\\lib\\site-packages\\numpy\\lib\\_datasource.py:533\u001b[0m, in \u001b[0;36mDataSource.open\u001b[1;34m(self, path, mode, encoding, newline)\u001b[0m\n\u001b[0;32m    530\u001b[0m     \u001b[38;5;28;01mreturn\u001b[39;00m _file_openers[ext](found, mode\u001b[38;5;241m=\u001b[39mmode,\n\u001b[0;32m    531\u001b[0m                               encoding\u001b[38;5;241m=\u001b[39mencoding, newline\u001b[38;5;241m=\u001b[39mnewline)\n\u001b[0;32m    532\u001b[0m \u001b[38;5;28;01melse\u001b[39;00m:\n\u001b[1;32m--> 533\u001b[0m     \u001b[38;5;28;01mraise\u001b[39;00m \u001b[38;5;167;01mIOError\u001b[39;00m(\u001b[38;5;124m\"\u001b[39m\u001b[38;5;132;01m%s\u001b[39;00m\u001b[38;5;124m not found.\u001b[39m\u001b[38;5;124m\"\u001b[39m \u001b[38;5;241m%\u001b[39m path)\n",
      "\u001b[1;31mOSError\u001b[0m: out.txt not found."
     ]
    }
   ],
   "source": [
    "import numpy as np\n",
    "background_sample = np.loadtxt(\"out.txt\")\n",
    "\n",
    "import matplotlib.pyplot as plt\n",
    "\n",
    "E_true = background_sample[:, 7]\n",
    "E_rec = background_sample[:, 8]\n",
    "plt.scatter(E_true, E_rec)\n",
    "plt.xlabel(\"E_true (MeV)\")\n",
    "plt.ylabel(\"E_rec (MeV)\")\n",
    "plt.show()\n",
    "\n",
    "x = background_sample[:, 0]\n",
    "y = background_sample[:, 1]\n",
    "z = background_sample[:, 2]\n",
    "\n",
    "rho = np.sqrt(x**2 + y**2 + z**2)\n",
    "theta = np.arccos(z / rho)\n",
    "phi = np.arctan2(y, x)\n",
    "\n",
    "plt.hist(rho, bins=50, range=(0, args.detector_radius), density=True)\n",
    "plt.xlabel(\"Radial distance (m)\")\n",
    "plt.show()\n",
    "\n",
    "plt.hist(theta, bins=50, density=True)\n",
    "plt.xlabel(\"Zenithal angle (rad)\")\n",
    "plt.show()\n",
    "\n",
    "plt.hist(phi, bins=50, density=True)\n",
    "plt.xlabel(\"Azimuthal angle (rad)\")\n",
    "plt.show()\n",
    "\n",
    "plt.hist(np.sin(phi), bins=50, density=True)\n",
    "plt.xlabel(\"sin(phi)\")\n",
    "plt.show()\n",
    "\n",
    "plt.hist(np.cos(theta), bins=50, density=True)\n",
    "plt.xlabel(\"cos(theta)\")\n",
    "plt.show()\n",
    "\n",
    "d_x = background_sample[:, 3]\n",
    "d_y = background_sample[:, 4]\n",
    "d_z = background_sample[:, 5]\n",
    "\n",
    "plt.hist(d_x, bins=50, density=True)\n",
    "plt.xlabel(\"d_x\")\n",
    "plt.show()\n",
    "\n",
    "plt.hist(d_y, bins=50, density=True)\n",
    "plt.xlabel(\"d_y\")\n",
    "plt.show()\n",
    "\n",
    "plt.hist(d_z, bins=50, density=True)\n",
    "plt.xlabel(\"d_z\")\n",
    "plt.show()\n",
    "\n"
   ]
  },
  {
   "cell_type": "code",
   "execution_count": null,
   "metadata": {},
   "outputs": [],
   "source": []
  }
 ],
 "metadata": {
  "colab": {
   "provenance": []
  },
  "kernelspec": {
   "display_name": "Python 3 (ipykernel)",
   "language": "python",
   "name": "python3"
  },
  "language_info": {
   "codemirror_mode": {
    "name": "ipython",
    "version": 3
   },
   "file_extension": ".py",
   "mimetype": "text/x-python",
   "name": "python",
   "nbconvert_exporter": "python",
   "pygments_lexer": "ipython3",
   "version": "3.9.12"
  },
  "vscode": {
   "interpreter": {
    "hash": "2549115f32c44c7a8b5a7e02bed83e0a52b02d36b801495d26c408aeeebb7054"
   }
  }
 },
 "nbformat": 4,
 "nbformat_minor": 1
}
