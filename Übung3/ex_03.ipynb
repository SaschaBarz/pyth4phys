{
 "cells": [
  {
   "cell_type": "markdown",
   "metadata": {
    "id": "3e-xwSEZWvF7",
    "tags": []
   },
   "source": [
    "# Exercise sheet 3\n",
    "### Due 18/11/2022, 14:00 "
   ]
  },
  {
   "cell_type": "markdown",
   "metadata": {
    "id": "ai19Qq5OWvGC"
   },
   "source": [
    "### Group:\n",
    "-  \n",
    "-  \n",
    "-  "
   ]
  },
  {
   "cell_type": "markdown",
   "metadata": {
    "id": "7OcftoxzWvGD"
   },
   "source": [
    "# The concept"
   ]
  },
  {
   "cell_type": "markdown",
   "metadata": {
    "id": "OyisS7QWWvGD"
   },
   "source": [
    "A popular integration technique is the **trapezoid** method, which can be implemented to different degrees of accuracy $n$.\n",
    "\n",
    "To first degree ($n=0$), the trapezoid method is just the area under a trapezoid connecting the two end points of our function:\n",
    "\n",
    "$\n",
    "\\begin{align}\n",
    "n=0: \\int_a^b f(x) dx \\,\\approx\\, I_0 = \\frac{1}{2} h_0 [f(a) + f(b)], \\hspace{5mm}\\mathrm{where}\\;h_0 = (b - a) \\hspace{5cm}(1)\n",
    "\\end{align}\n",
    "$"
   ]
  },
  {
   "cell_type": "markdown",
   "metadata": {
    "id": "3Rfld7UFWvGE"
   },
   "source": [
    "$I_0$ gives a very crude estimate of the integral. To increase our precision, we can divide the region between $a$ and $b$ into $n+1$ segments, calculate the area within these segments, and add them up. The formula for the n-th degree of accuracy of this algorithm is:"
   ]
  },
  {
   "cell_type": "markdown",
   "metadata": {
    "id": "TzXHjIHxWvGF"
   },
   "source": [
    "$\n",
    "\\begin{align}\n",
    "n>0: \\int_a^b f(x) dx \\,\\approx\\, I_n = \\frac{1}{2} I_{n-1} + h_n\\sum_{i=1,3.,,,}^{2^n-1} f(a + i h_n), \\hspace{5mm}\\mathrm{where}\\;h_n=\\frac{1}{2}h_{n-1} \\hspace{3.3cm}(2)\n",
    "\\end{align}\n",
    "$"
   ]
  },
  {
   "cell_type": "markdown",
   "metadata": {
    "id": "QEIacIBLWvGG"
   },
   "source": [
    "As you can see, with this algorithm the $n$-th degree approximation, $I_n$, is given as a recurrence relation, i.e. $I_n=I_n(I_{n-1})$.\n",
    "\n",
    "As you calculate the algorithm for higher degree $n$, your approximation $I_n$ assimptotically approaches the result of the integral. The precision of your approximation can then be estimated by looking at the relative change between the last two steps:\n",
    "\n",
    "$\n",
    "\\begin{align}\n",
    "\\varepsilon(n) = \\frac{I_{n} - I_{n-1}}{I_n} \\hspace{10cm}(3)\n",
    "\\end{align}\n",
    "$"
   ]
  },
  {
   "cell_type": "markdown",
   "metadata": {
    "id": "VraZNI93WvGH"
   },
   "source": [
    "# The complex-looking task"
   ]
  },
  {
   "cell_type": "markdown",
   "metadata": {
    "id": "iTOilOueWvGI"
   },
   "source": [
    "You'll be building a function `trapz(f,a,b, prec)` that calculates the definite integral of a function `f` between `a` and `b`, down to a precision of `prec`.\n",
    "\n",
    "For this, `trapz` calculates approximations of the integral using the trapezoidal algorithm, starting from $n=0$ and successively increasing $n$ until $|\\varepsilon(n)|<$`prec` and our precision is satisfied. \n",
    "\n",
    "Once the precision is satisfied at $n=n_\\mathrm{final}$, our function returns $I_{n_\\mathrm{final}}$, $n_\\mathrm{final}$, and $\\varepsilon(n_\\mathrm{final})$."
   ]
  },
  {
   "cell_type": "markdown",
   "metadata": {
    "id": "qKK6jHDfWvGK"
   },
   "source": [
    "# The step-by-step breakdown"
   ]
  },
  {
   "cell_type": "markdown",
   "metadata": {
    "id": "rV4plLYZWvGL",
    "tags": []
   },
   "source": [
    "#### 1. Write a function `h_n` that returns the value of $h_n(a,b)$.\n",
    "\n",
    "- Tip 1: Check out the example of a recurrence function we worked out in the lecture. \n",
    "- Tip 2: Remember that $h_n$ is defined recursively for $n>0$ (eq. 2) and has a special definition for $n=0$ (see eq. 1)"
   ]
  },
  {
   "cell_type": "code",
   "execution_count": 2,
   "metadata": {
    "id": "T2i_RQ9FWvGM"
   },
   "outputs": [],
   "source": [
    "def h_n(n,a,b):\n",
    "    '''Recursively calculate the term h_n(a,b).'''\n",
    "    res = (b-a)\n",
    "    if n > 0:\n",
    "        res = 0.5 * h_n(n-1, a, b)\n",
    "        \n",
    "    return res\n",
    "\n",
    "def f(x):\n",
    "    x = x**2\n",
    "    "
   ]
  },
  {
   "cell_type": "code",
   "execution_count": 3,
   "metadata": {},
   "outputs": [
    {
     "data": {
      "text/plain": [
       "0.25"
      ]
     },
     "execution_count": 3,
     "metadata": {},
     "output_type": "execute_result"
    }
   ],
   "source": [
    "h_n(3,1,3)"
   ]
  },
  {
   "cell_type": "markdown",
   "metadata": {
    "id": "ARuoteVHWvGO",
    "tags": []
   },
   "source": [
    "#### 2. Write a function `sum_terms` that calculates the sum in eq. (2).\n",
    "\n",
    "- Tip 1: for a given `n` (passed to `sum_terms` as an argument), you must iterate over `i` from 1 to $2^n-1$ in steps of 2\n",
    "- Tip 2: remember that this sum depends on the function `f` that the user ultimately wants to integrate, so it has to take it as an argument additionally to `n`, `a` and `b`"
   ]
  },
  {
   "cell_type": "code",
   "execution_count": 4,
   "metadata": {
    "id": "5HnniB2iWvGO"
   },
   "outputs": [],
   "source": [
    "def sum_terms(f, n, a, b, i=1):\n",
    "    res2 = f(a + i * h_n(n,a,b))\n",
    "    if i < 2**n:\n",
    "        res2 = res2 + sum_terms(f,n,a,b,i+2)\n",
    "        #print(res2)\n",
    "    \n",
    "    return res2"
   ]
  },
  {
   "cell_type": "code",
   "execution_count": 5,
   "metadata": {},
   "outputs": [
    {
     "data": {
      "text/plain": [
       "81.0"
      ]
     },
     "execution_count": 5,
     "metadata": {},
     "output_type": "execute_result"
    }
   ],
   "source": [
    "sum_terms(lambda x: x**2, 4, 3, 3)"
   ]
  },
  {
   "cell_type": "markdown",
   "metadata": {
    "id": "5tVUj8uZWvGP",
    "tags": []
   },
   "source": [
    "#### 3. Write a function `approx_n` that calculates the value of $I_n(a,b)$ for any given function `f`\n",
    "\n",
    "- Tip 1: make use of `h_n` and `sum_terms` and remember to pass on the arguments\n",
    "- Tip 2: remember that like $h_n$, $I_n$ is also defined recursively for $n>0$ (eq.1) and has a special definition for the initial estimate $I_0$ (eq. 1)"
   ]
  },
  {
   "cell_type": "code",
   "execution_count": 6,
   "metadata": {
    "id": "fbA3RjitWvGP"
   },
   "outputs": [],
   "source": [
    "def approx_n(f,n,a,b):\n",
    "    resI = 0.5 * h_n(0,a,b) * (f(a) + f(b))\n",
    "    if n > 0:\n",
    "        resI = 0.5 * approx_n(f,n-1,a,b) + h_n(n,a,b) * sum_terms(f,n,a,b)\n",
    "        #print('n =',n,'resI =', resI)\n",
    "    return resI"
   ]
  },
  {
   "cell_type": "code",
   "execution_count": 7,
   "metadata": {},
   "outputs": [
    {
     "data": {
      "text/plain": [
       "15.820037841796875"
      ]
     },
     "execution_count": 7,
     "metadata": {},
     "output_type": "execute_result"
    }
   ],
   "source": [
    "approx_n(lambda x: 2*x, 8, 1, 4)"
   ]
  },
  {
   "cell_type": "markdown",
   "metadata": {
    "id": "afo0HxbyWvGP",
    "tags": []
   },
   "source": [
    "#### 4. Write a function `absepsilon` that takes two different approxiation values and returns the value of $|\\varepsilon|$ between them (eq. 3)\n",
    "\n",
    "- Tip: you can use Python's native abs() function "
   ]
  },
  {
   "cell_type": "code",
   "execution_count": 8,
   "metadata": {
    "id": "q4qyUPqmWvGQ"
   },
   "outputs": [],
   "source": [
    "def absepsilon(f, n, a, b):\n",
    "    epsilon = (abs(approx_n(f,n,a,b) - approx_n(f,n-1,a,b) )) / approx_n(f,n,a,b)\n",
    "    return epsilon"
   ]
  },
  {
   "cell_type": "code",
   "execution_count": 9,
   "metadata": {},
   "outputs": [
    {
     "data": {
      "text/plain": [
       "0.03994861021892741"
      ]
     },
     "execution_count": 9,
     "metadata": {},
     "output_type": "execute_result"
    }
   ],
   "source": [
    "absepsilon(lambda x: 2*x, 8, 1, 4)"
   ]
  },
  {
   "cell_type": "markdown",
   "metadata": {
    "id": "HETjPrVSWvGQ",
    "tags": []
   },
   "source": [
    "#### 5. Finally, put all the above functions together to create your integrator in the form of a function `trapz(f,a,b, prec)`. Make `prec` a keyword argument so that a precision of `1e-5` is assumed if the user doesn't specify any value. Once the precision is met, the function should return $I_n$, $n$ and $\\varepsilon$.\n",
    "\n",
    "- Tip 1: first, calculate $I_0$. Then starting with $n=1$, calculate a new approximation $I_n$ and compare it with the latest approximation. While your $\\varepsilon$ is larger than the desired precision `prec`, keep increasing $n$, replacing the old approximation with the latest one.  \n",
    "\n",
    "- Tip 2: make your life easier by printing the successive values of $I_n$, $n$ and $\\varepsilon$ in every iteration, so you can see what is happening "
   ]
  },
  {
   "cell_type": "code",
   "execution_count": 12,
   "metadata": {
    "id": "wtgGyM3KWvGQ"
   },
   "outputs": [],
   "source": [
    "def trapz(f, n, a, b, prec = 1e-5):\n",
    "    while n > 11:\n",
    "        break\n",
    "    if absepsilon(f,n,a,b) > prec:\n",
    "        trapz(f, n+1, a,b)\n",
    "        print('eps =', absepsilon(f,n,a,b),'I_n =', approx_n(f,n,a,b),'n = ', n)\n",
    "    \n",
    "    print('eps =', absepsilon(f,n,a,b),'I_n =', approx_n(f,n,a,b),'n = ', n)"
   ]
  },
  {
   "cell_type": "code",
   "execution_count": null,
   "metadata": {},
   "outputs": [],
   "source": [
    "trapz(lambda x: 2*x, 1, 1, 4)"
   ]
  },
  {
   "cell_type": "markdown",
   "metadata": {
    "id": "WLUeyEiVWvGR",
    "tags": []
   },
   "source": [
    "#### 6. Test your function by computing some integrals:\n",
    "\n",
    "$\n",
    "\\begin{align}\n",
    "\\int_{-1}^{2} x^3 dx = \\left[ \\frac{x^4}{4} \\right]_{-1}^{2} = 3.75\n",
    "\\end{align}\n",
    "$\n",
    "\n",
    "\n",
    "$\n",
    "\\begin{align}\n",
    "\\int_{-a}^{a} (x^5 + 2x^3) dx = 0 \\hspace{5mm} \\forall a \\in \\mathbb{R} \\hspace{5mm}\\text{(try $a=10^{-5}$ and $a=10^5$)}\n",
    "\\end{align}\n",
    "$\n"
   ]
  },
  {
   "cell_type": "code",
   "execution_count": null,
   "metadata": {
    "id": "9eBVBZwhWvGR"
   },
   "outputs": [],
   "source": [
    "f1 = lambda x: x ** 3\n",
    "f2 = lambda x: x ** 5 + 2 * x ** 3\n",
    "trapz(f1, 1, -1, 2)\n",
    "print()\n",
    "trapz(f2, 1, 10**-5, 10**5)"
   ]
  },
  {
   "cell_type": "markdown",
   "metadata": {
    "id": "cnVpkP1wWvGR"
   },
   "source": [
    "## Bonus exercise!\n",
    "\n",
    "An *extra* 3 points are up for grabs if you optimize your algorithm so that every time you calculate $I_{n}$ you don't to calculate $I_{n-1}$ iteratively  (perhaps by passing the latest value of $I_{n-1}$ to your `approx_n` function as a keyword argument...)\n",
    "\n",
    "This will greatly increase the performance of your function!\n"
   ]
  },
  {
   "cell_type": "code",
   "execution_count": null,
   "metadata": {
    "id": "oHJXD6RzWvGS"
   },
   "outputs": [],
   "source": []
  },
  {
   "cell_type": "markdown",
   "metadata": {
    "id": "MDMRJIjUWvGS",
    "tags": []
   },
   "source": [
    "### Notes\n",
    "\n",
    "- Remember to document all your functions with a docstring. For helper funcitons a one-liner may be enough, but for `trapz` a proper description is necessary (see notebook from lecture #3)\n",
    "\n",
    "- There are Python libraries with tools to integrate functions through many different methods, and we're going to be working with them later on in the course. But for this task you should use **only native Python tools**, because the goal is to become comfortable creating and manipulating functions in Python."
   ]
  },
  {
   "cell_type": "code",
   "execution_count": null,
   "metadata": {
    "id": "CX8PZ4y_WvGT"
   },
   "outputs": [],
   "source": []
  }
 ],
 "metadata": {
  "colab": {
   "provenance": []
  },
  "kernelspec": {
   "display_name": "Python 3 (ipykernel)",
   "language": "python",
   "name": "python3"
  },
  "language_info": {
   "codemirror_mode": {
    "name": "ipython",
    "version": 3
   },
   "file_extension": ".py",
   "mimetype": "text/x-python",
   "name": "python",
   "nbconvert_exporter": "python",
   "pygments_lexer": "ipython3",
   "version": "3.9.12"
  },
  "vscode": {
   "interpreter": {
    "hash": "ad60ba3d6748ebfd779dff164ecdca54fbf007dbac97c522a9077ed5230659e8"
   }
  }
 },
 "nbformat": 4,
 "nbformat_minor": 1
}
