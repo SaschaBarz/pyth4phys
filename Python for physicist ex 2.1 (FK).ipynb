{
 "cells": [
  {
   "cell_type": "code",
   "execution_count": 1,
   "id": "fc4a8121",
   "metadata": {},
   "outputs": [
    {
     "name": "stdout",
     "output_type": "stream",
     "text": [
      "0\n",
      "1\n",
      "2\n",
      "168\n"
     ]
    }
   ],
   "source": [
    "def count_primes(n):\n",
    "    count = 0\n",
    "    for k in range(2, n+1):\n",
    "        for x in range(2, k):\n",
    "            if k%x == 0:\n",
    "                break\n",
    "        else:\n",
    "             count += 1\n",
    "    return count\n",
    "\n",
    "# Always test your function near the boundaries!\n",
    "print(count_primes(1))    # 1 is not a prime number, so we expect 0\n",
    "print(count_primes(2))    # 2 is the lowest prime number, so we expect 1\n",
    "print(count_primes(3))    # Here we expect 2\n",
    "print(count_primes(1000)) # Here we expect 168 (Yes, I checked)"
   ]
  },
  {
   "cell_type": "code",
   "execution_count": null,
   "id": "96954cb8",
   "metadata": {},
   "outputs": [],
   "source": []
  }
 ],
 "metadata": {
  "kernelspec": {
   "display_name": "Python 3 (ipykernel)",
   "language": "python",
   "name": "python3"
  },
  "language_info": {
   "codemirror_mode": {
    "name": "ipython",
    "version": 3
   },
   "file_extension": ".py",
   "mimetype": "text/x-python",
   "name": "python",
   "nbconvert_exporter": "python",
   "pygments_lexer": "ipython3",
   "version": "3.9.12"
  }
 },
 "nbformat": 4,
 "nbformat_minor": 5
}
