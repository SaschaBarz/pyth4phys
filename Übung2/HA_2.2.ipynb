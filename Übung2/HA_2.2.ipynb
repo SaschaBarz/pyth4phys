{
 "cells": [
  {
   "cell_type": "code",
   "execution_count": 194,
   "id": "ce4efcf7",
   "metadata": {},
   "outputs": [
    {
     "name": "stdout",
     "output_type": "stream",
     "text": [
      "[[1.  0.5]\n",
      " [4.  3. ]]\n",
      "[[ 5.  10.   2.   1. ]\n",
      " [ 3.   0.   2.   1. ]\n",
      " [ 0.5  2.   1.   6. ]]\n",
      "[[ 3.   3.   1. ]\n",
      " [ 2.   5.   3. ]\n",
      " [ 0.1 20.   2. ]\n",
      " [ 0.   4.   1. ]]\n"
     ]
    }
   ],
   "source": [
    "import numpy as np\n",
    "a = np.array([[5., 10., 2., 1.],\n",
    "                  [3., 0., 2., 1.],\n",
    "                  [0.5, 2., 1., 6.]])\n",
    "b = np.array([[3., 3., 1.],\n",
    "                  [2., 5. ,3.],\n",
    "                  [0.1, 20., 2.],\n",
    "                  [0., 4., 1.]])\n",
    "c = np.array([[1., 0.5],\n",
    "                  [4.,3.]])\n",
    "print(c)\n",
    "print(a)\n",
    "print(b)"
   ]
  },
  {
   "cell_type": "code",
   "execution_count": 195,
   "id": "b470b937",
   "metadata": {},
   "outputs": [],
   "source": [
    "def multiply2d(A, B):\n",
    "    prod = np.array([[0.,0.,0.],\n",
    "                 [0.,0.,0.],\n",
    "                [0.,0.,0.]])\n",
    "    for i in range(len(A)):\n",
    "        for j in range(len(B[0])):\n",
    "            for k in range(len(B)):\n",
    "                prod[i, j] += A[i][k] * B[k][j]\n",
    "    return prod"
   ]
  },
  {
   "cell_type": "code",
   "execution_count": 197,
   "id": "4cea82bc",
   "metadata": {},
   "outputs": [
    {
     "name": "stdout",
     "output_type": "stream",
     "text": [
      "c x c = [[ 3.  2.  0.]\n",
      " [16. 11.  0.]\n",
      " [ 0.  0.  0.]]\n",
      "a x b = [[ 35.2 109.   40. ]\n",
      " [  9.2  53.    8. ]\n",
      " [  5.6  55.5  14.5]]\n"
     ]
    }
   ],
   "source": [
    "print('c x c =',multiply2d(c, c))\n",
    "print('a x b =',multiply2d(a, b))"
   ]
  },
  {
   "cell_type": "code",
   "execution_count": null,
   "id": "fbb236e4",
   "metadata": {},
   "outputs": [],
   "source": []
  }
 ],
 "metadata": {
  "kernelspec": {
   "display_name": "Python 3 (ipykernel)",
   "language": "python",
   "name": "python3"
  },
  "language_info": {
   "codemirror_mode": {
    "name": "ipython",
    "version": 3
   },
   "file_extension": ".py",
   "mimetype": "text/x-python",
   "name": "python",
   "nbconvert_exporter": "python",
   "pygments_lexer": "ipython3",
   "version": "3.9.12"
  }
 },
 "nbformat": 4,
 "nbformat_minor": 5
}
