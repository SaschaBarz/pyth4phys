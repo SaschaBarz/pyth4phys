{
 "cells": [
  {
   "cell_type": "code",
   "execution_count": 15,
   "id": "bfee8ae9",
   "metadata": {},
   "outputs": [],
   "source": [
    "def concat(s1, s2, c):\n",
    "    result = s1 + s2  + c\n",
    "    # result = # some codes that makes use of s1, s2 and c\n",
    "    return result"
   ]
  },
  {
   "cell_type": "code",
   "execution_count": 17,
   "id": "78a65aea",
   "metadata": {},
   "outputs": [
    {
     "data": {
      "text/plain": [
       "'ist das richtig? '"
      ]
     },
     "execution_count": 17,
     "metadata": {},
     "output_type": "execute_result"
    }
   ],
   "source": [
    "s1 = 'ist '\n",
    "s2 = 'das '\n",
    "c = 'richtig?'\n",
    "concat(s1,s2,c)"
   ]
  },
  {
   "cell_type": "code",
   "execution_count": 148,
   "id": "c2c96f4d",
   "metadata": {},
   "outputs": [
    {
     "name": "stdout",
     "output_type": "stream",
     "text": [
      "\"VA GunG pnFr,\" Fnvq fnApuB cnAMn, \"vs V FuBHyq orpBzr n xvAt oL BAr Bs GuBFr zvEnpyrF LBHE JBEFuvC FCrnxF Bs, rIrA WHnAn THGvrEErM, zL Byq JBznA, JBHyq pBzr GB or DHrrA nAq zL puvyqErA vAsnAGrF.\"\n",
      "\"jryy, JuB qBHoGF vG?\" Fnvq QBA dHvKBGr.\n",
      "\n",
      "THE ZEn oF PytHon, By TIM PEtErs\n",
      "\n",
      "bEAutIFuL Is BEttEr tHAn uGLy.\n",
      "expLICIt Is BEttEr tHAn IMpLICIt.\n",
      "SIMpLE Is BEttEr tHAn CoMpLEx.\n",
      "coMpLEx Is BEttEr tHAn CoMpLICAtED.\n",
      "fLAt Is BEttEr tHAn nEstED.\n",
      "SpArsE Is BEttEr tHAn DEnsE.\n",
      "READABILIty Counts.\n",
      "SpECIAL CAsEs ArEn't spECIAL EnouGH to BrEAK tHE ruLEs.\n",
      "aLtHouGH prACtICALIty BEAts purIty.\n",
      "errors sHouLD nEvEr pAss sILEntLy.\n",
      "UnLEss ExpLICItLy sILEnCED.\n",
      "in tHE FACE oF AMBIGuIty, rEFusE tHE tEMptAtIon to GuEss.\n",
      "THErE sHouLD BE onE-- AnD prEFErABLy onLy onE --oBvIous wAy to Do It.\n",
      "aLtHouGH tHAt wAy MAy not BE oBvIous At FIrst unLEss you'rE dutCH.\n",
      "Now Is BEttEr tHAn nEvEr.\n",
      "aLtHouGH nEvEr Is oFtEn BEttEr tHAn *rIGHt* now.\n",
      "iF tHE IMpLEMEntAtIon Is HArD to ExpLAIn, It's A BAD IDEA.\n",
      "iF tHE IMpLEMEntAtIon Is EAsy to ExpLAIn, It MAy BE A GooD IDEA.\n",
      "NAMEspACEs ArE onE HonKInG GrEAt IDEA -- LEt's Do MorE oF tHosE!\n"
     ]
    }
   ],
   "source": [
    "test_message = '\"In that case,\" said Sancho Panza, \"if I should become a king by one of those miracles your worship speaks of, even Juana Gutierrez, my old woman, would come to be queen and my children infantes.\"\\n\"Well, who doubts it?\" said Don Quixote.'\n",
    "n = 13\n",
    "key = ['a','b','c','d','e','f','g','h','i','j','k','l','m','n','o','p','q','r','s','t','u','v','w','x','y','z','A','B','C','D','E','F','G','H','I','J','K','L','M','N','O','P','Q','R','S','T','U','V','W','X','Y','Z']\n",
    "val = []\n",
    "\n",
    "def rot13(phrase, n):\n",
    "    for i in range(len(key)):\n",
    "        if i+n < len(key):\n",
    "            val.append(key[i+n])\n",
    "        else:\n",
    "            val.append(key[i+n-len(key)])\n",
    "    transform = dict(zip(key, val))\n",
    "    return ''.join(transform.get(char, char) for char in phrase)\n",
    "print(rot13(test_message,n))\n",
    "secret_message = \"Gur Mra bs Clguba, ol Gvz Crgref\\n\\nOrnhgvshy vf orggre guna htyl.\\nRkcyvpvg vf orggre guna vzcyvpvg.\\nFvzcyr vf orggre guna pbzcyrk.\\nPbzcyrk vf orggre guna pbzcyvpngrq.\\nSyng vf orggre guna arfgrq.\\nFcnefr vf orggre guna qrafr.\\nErnqnovyvgl pbhagf.\\nFcrpvny pnfrf nera'g fcrpvny rabhtu gb oernx gur ehyrf.\\nNygubhtu cenpgvpnyvgl orngf chevgl.\\nReebef fubhyq arire cnff fvyragyl.\\nHayrff rkcyvpvgyl fvyraprq.\\nVa gur snpr bs nzovthvgl, ershfr gur grzcgngvba gb thrff.\\nGurer fubhyq or bar-- naq cersrenoyl bayl bar --boivbhf jnl gb qb vg.\\nNygubhtu gung jnl znl abg or boivbhf ng svefg hayrff lbh'er Qhgpu.\\nAbj vf orggre guna arire.\\nNygubhtu arire vf bsgra orggre guna *evtug* abj.\\nVs gur vzcyrzragngvba vf uneq gb rkcynva, vg'f n onq vqrn.\\nVs gur vzcyrzragngvba vf rnfl gb rkcynva, vg znl or n tbbq vqrn.\\nAnzrfcnprf ner bar ubaxvat terng vqrn -- yrg'f qb zber bs gubfr!\"\n",
    "print()\n",
    "plaintext_message =(rot13(secret_message,13))\n",
    "print(plaintext_message)"
   ]
  }
 ],
 "metadata": {
  "kernelspec": {
   "display_name": "Python 3 (ipykernel)",
   "language": "python",
   "name": "python3"
  },
  "language_info": {
   "codemirror_mode": {
    "name": "ipython",
    "version": 3
   },
   "file_extension": ".py",
   "mimetype": "text/x-python",
   "name": "python",
   "nbconvert_exporter": "python",
   "pygments_lexer": "ipython3",
   "version": "3.9.12"
  }
 },
 "nbformat": 4,
 "nbformat_minor": 5
}
