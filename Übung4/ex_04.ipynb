{
  "cells": [
    {
      "cell_type": "markdown",
      "metadata": {
        "id": "view-in-github",
        "colab_type": "text"
      },
      "source": [
        "<a href=\"https://colab.research.google.com/github/SaschaBarz/pyth4phys/blob/main/ex_04.ipynb\" target=\"_parent\"><img src=\"https://colab.research.google.com/assets/colab-badge.svg\" alt=\"Open In Colab\"/></a>"
      ]
    },
    {
      "cell_type": "markdown",
      "metadata": {
        "id": "bAF0EOna2Ur9"
      },
      "source": [
        "# Exercise sheet 4\n",
        "### Due 25/11/2022, 14:00 \n",
        "- Name 1\n",
        "- Name 2\n",
        "- Name 3"
      ]
    },
    {
      "cell_type": "markdown",
      "metadata": {
        "id": "Fzdmz4Bf2UsI"
      },
      "source": [
        "## A Particle Zoo \n",
        "Build a system of classes that is able to represent particles and their properties!\n",
        "\n",
        "### 1. Generic particle\n",
        "\n",
        "Define a `Particle` class to represent a generic particle.\n",
        "\n",
        "The class should provide access to the following constant properties by means of getter methods:\n",
        "- rest mass (in eV);\n",
        "- electric charge;\n",
        "- spin;\n",
        "- is stable or not;\n",
        "- can be observed in isolation or not.\n",
        "\n",
        "The class should allow to set the following modifiable properties by means of a setter method:\n",
        "- momentum (scalar, in eV).\n"
      ]
    },
    {
      "cell_type": "code",
      "execution_count": null,
      "metadata": {
        "id": "nN3DfFO_2UsL",
        "colab": {
          "base_uri": "https://localhost:8080/"
        },
        "outputId": "2dba651d-15d2-4adb-f473-e357721fd470"
      },
      "outputs": [
        {
          "output_type": "stream",
          "name": "stdout",
          "text": [
            "Object `lesen` not found.\n"
          ]
        }
      ],
      "source": [
        "from re import S\n",
        "class Particle():\n",
        "  default_restmass_unit = 'eV'\n",
        "    \"\"\"\n",
        "    YOUR CODE HERE\n",
        "    \"\"\"\n",
        "    def __init__(particle, name, rest_mass, charge, spin, stable, isolation):\n",
        "      particle.name = name\n",
        "      particle.rest_mass = rest_mass\n",
        "      particle.charge = charge\n",
        "      particle.spin = spin\n",
        "      particle.stable = stable\n",
        "      particle.isolation = isolation\n",
        "\n",
        "    def get_name(particle):\n",
        "      return particle.name\n",
        "    def get_mass(particle):\n",
        "      return particle.rest_mass\n",
        "    def get_charge(particle):\n",
        "      return particle.charge\n",
        "    def get_spin(particle):\n",
        "      return particle.spin\n",
        "    def get_stable(particle):\n",
        "      return particle.stable\n",
        "    def get_isolation(particle):\n",
        "      return particle.isolation\n",
        "    def get_momentum(particle):\n",
        "      p = particle.rest_mass * \n",
        "      "
      ]
    },
    {
      "cell_type": "markdown",
      "metadata": {
        "id": "rbKfAd4U2UsN"
      },
      "source": [
        "### 2. Elementary particles\n",
        "Define a class `ElementaryParticle` derived from `Particle`.\n",
        "\n",
        "Then, derive from `ElementaryParticle` separate classes to represent their different categories:\n",
        "- `class Quark` (up, down, top, bottom, charm, strange)\n",
        "- `class Lepton` (electron, muon, tau, electron neutrino, tau neutrino, muon neutrino)\n",
        "- `class GaugeBoson` (gluon, photon, Z boson, W boson)\n",
        "- `class ScalarBoson` (Higgs boson)\n",
        "\n",
        "Instructions:\n",
        "- choose an unique identifier (a single letter or short string) for each type of particle in a category;\n",
        "- use a class to represent a category, as suggested;\n",
        "- use an attribute to identify a particle in its own category (it can be the same as the unique identifier);\n",
        "- use an attribute to signal if the particle is an antiparticle; remember that an antiparticle has opposite charge but all the other constant properties are identical!\n",
        "- provide each class with a class method `from_id(id)` that takes as an argument the unique identifier of a particle and returns an *instance* of such particle! This is probably where you should take care of assigning the properties (charge, spin, mass etc.) of each elementary particle, but feel free to adopt more clever solutions!\n",
        "- Reminder: all particles except quarks can be observed in isolation. Stable particles are: up, down, electron, all neutrinos, gluon, photon."
      ]
    },
    {
      "cell_type": "code",
      "execution_count": null,
      "metadata": {
        "id": "X3ppGzzA2UsO"
      },
      "outputs": [],
      "source": [
        "\"\"\"\n",
        "YOUR CODE HERE\n",
        "\"\"\"\n",
        "\n",
        "class ElementaryParticle(Particle):\n",
        "    pass\n",
        "\n",
        "class Quark(ElementaryParticle):\n",
        "    pass"
      ]
    },
    {
      "cell_type": "markdown",
      "metadata": {
        "id": "jZZyNlmY2UsP"
      },
      "source": [
        "### 3. Hadrons\n",
        "Define a class `Hadron` derived from `Particles` to describe particles made of quarks:\n",
        "- `Meson`: pi+ (u anti-d), pi- (d anti-u), pi0 (u anti-u), K+ (u anti-s), K0 (d anti-s), K- (s anti-u);\n",
        "- `Nucleon`: proton (u u d), neutron (u d d);\n",
        "\n",
        "Notes:\n",
        "- choose an unique identifier (a single letter or short string) for each type of particle in a category;\n",
        "- make sure a `Hadron` object always contains a list of the objects corresponding to the particles composing it;\n",
        "- remember that the electric charge of a hadron is the sum of the charges of the quarks composing it; \n",
        "- provide each class with a `from_id()` method that takes as an argument the unique identifier of a particle and returns an *instance* of such particle!\n",
        "- provide `Hadron` with a class method that takes as an input a list of `Quark` objects and returns the corresponding `Meson` or `Nucleon` if the combination corresponds to a known particles (limit yourself to the particles in the above list)."
      ]
    },
    {
      "cell_type": "code",
      "execution_count": null,
      "metadata": {
        "id": "xm7DWKnj2UsR"
      },
      "outputs": [],
      "source": [
        "class Hadron(Particle):\n",
        "    \"\"\"\n",
        "    YOUR CODE HERE\n",
        "    \"\"\""
      ]
    },
    {
      "cell_type": "markdown",
      "metadata": {
        "id": "3TAu_5dN2UsS"
      },
      "source": [
        "### 4/Bonus: Atomic nuclei\n",
        "*This exercise is optional and will allow you to gain bonus points!*\n",
        "\n",
        "Provide your own creative design of a class `Nucleus` to represent atomic nuclei!"
      ]
    }
  ],
  "metadata": {
    "kernelspec": {
      "display_name": "Python 3.10.6",
      "language": "python",
      "name": "python3"
    },
    "language_info": {
      "codemirror_mode": {
        "name": "ipython",
        "version": 3
      },
      "file_extension": ".py",
      "mimetype": "text/x-python",
      "name": "python",
      "nbconvert_exporter": "python",
      "pygments_lexer": "ipython3",
      "version": "3.10.6"
    },
    "orig_nbformat": 4,
    "vscode": {
      "interpreter": {
        "hash": "2549115f32c44c7a8b5a7e02bed83e0a52b02d36b801495d26c408aeeebb7054"
      }
    },
    "colab": {
      "provenance": [],
      "include_colab_link": true
    }
  },
  "nbformat": 4,
  "nbformat_minor": 0
}
