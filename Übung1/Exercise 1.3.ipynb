{
 "cells": [
  {
   "cell_type": "code",
   "execution_count": 1,
   "id": "828f0d10",
   "metadata": {},
   "outputs": [],
   "source": [
    "import math"
   ]
  },
  {
   "cell_type": "code",
   "execution_count": 2,
   "id": "c3fc8445",
   "metadata": {},
   "outputs": [],
   "source": [
    "keys_1 = list(\"1234567890qwertyuiopasdfghjkl;zxcvbnm,./\")\n",
    "keys_2 = \"CTRL,META,ALT,SPACE,ALT,FN,MENU,CTRL\".split(\",\")\n",
    "L_1D = keys_1 + keys_2"
   ]
  },
  {
   "cell_type": "code",
   "execution_count": 3,
   "id": "f5ab51a2",
   "metadata": {},
   "outputs": [],
   "source": [
    "def generate_indices(i, n_c):\n",
    "    n_r = math.ceil(len(L_1D) / n_c)\n",
    "    L_2D = list()\n",
    "    for l in range(0, len(L_1D), n_r):\n",
    "        L_2D.append(L_1D[l:l+n_r])\n",
    "    \n",
    "    j = math.floor(i / n_r)\n",
    "    k = i - j*n_r\n",
    "    return j, k"
   ]
  },
  {
   "cell_type": "code",
   "execution_count": 4,
   "id": "3267ff58",
   "metadata": {},
   "outputs": [],
   "source": [
    "def build_table(n_c):\n",
    "    n_r = math.ceil(len(L_1D) / n_c)\n",
    "    L_2D = list()\n",
    "    for l in range(0, len(L_1D), n_r):\n",
    "        L_2D.append(L_1D[l:l+n_r])\n",
    "    return L_2D"
   ]
  },
  {
   "cell_type": "code",
   "execution_count": 5,
   "id": "99ba1a1f",
   "metadata": {},
   "outputs": [
    {
     "data": {
      "text/plain": [
       "[['1', '2', '3', '4', '5'],\n",
       " ['6', '7', '8', '9', '0'],\n",
       " ['q', 'w', 'e', 'r', 't'],\n",
       " ['y', 'u', 'i', 'o', 'p'],\n",
       " ['a', 's', 'd', 'f', 'g'],\n",
       " ['h', 'j', 'k', 'l', ';'],\n",
       " ['z', 'x', 'c', 'v', 'b'],\n",
       " ['n', 'm', ',', '.', '/'],\n",
       " ['CTRL', 'META', 'ALT', 'SPACE', 'ALT'],\n",
       " ['FN', 'MENU', 'CTRL']]"
      ]
     },
     "execution_count": 5,
     "metadata": {},
     "output_type": "execute_result"
    }
   ],
   "source": [
    "n_c = 10\n",
    "L_2D = build_table(n_c)\n",
    "L_2D"
   ]
  },
  {
   "cell_type": "code",
   "execution_count": 6,
   "id": "19420f71",
   "metadata": {},
   "outputs": [
    {
     "name": "stdout",
     "output_type": "stream",
     "text": [
      "Done!\n"
     ]
    }
   ],
   "source": [
    "for i in range(len(L_1D)):\n",
    "    if L_1D[i] == L_2D[generate_indices(i,n_c=10)[0]][generate_indices(i,n_c=10)[1]]:\n",
    "        pass\n",
    "    else: print(\"ERROR\")\n",
    "print(\"Done!\")"
   ]
  },
  {
   "cell_type": "code",
   "execution_count": null,
   "id": "f503b34d",
   "metadata": {},
   "outputs": [],
   "source": []
  }
 ],
 "metadata": {
  "kernelspec": {
   "display_name": "Python 3 (ipykernel)",
   "language": "python",
   "name": "python3"
  },
  "language_info": {
   "codemirror_mode": {
    "name": "ipython",
    "version": 3
   },
   "file_extension": ".py",
   "mimetype": "text/x-python",
   "name": "python",
   "nbconvert_exporter": "python",
   "pygments_lexer": "ipython3",
   "version": "3.8.10"
  }
 },
 "nbformat": 4,
 "nbformat_minor": 5
}
